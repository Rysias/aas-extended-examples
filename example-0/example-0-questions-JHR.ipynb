{
 "cells": [
  {
   "cell_type": "markdown",
   "id": "e3bd42ec-808c-4abb-a5be-f400b2899ddf",
   "metadata": {
    "tags": []
   },
   "source": [
    "# Welcome to AAS!"
   ]
  },
  {
   "cell_type": "markdown",
   "id": "2425cea2-2f4b-4696-b38e-6e1897500186",
   "metadata": {
    "tags": []
   },
   "source": [
    "## Getting Started in Python\n",
    "\n",
    "In this course, we assume a very basic knowledge of python syntax, which can be learned in a variety of places, including directly from the [Python Software Foundation](https://www.python.org/about/gettingstarted/). An expansive [cheat sheet](https://www.utc.fr/~jlaforet/Suppl/python-cheatsheets.pdf) for data science in Python is available from DataCamp.\n",
    "\n",
    "This notebook will introduce the main python packages we will be using in this course:\n",
    "\n",
    "* `numpy` for numerical calculations\n",
    "* `scipy` for mathematical algorithms\n",
    "* `matplotlib` for visualisation\n",
    "* `pandas` for data wrangling\n",
    "* `statsmodels` for statistical algorithms\n",
    "\n",
    "All of these packages are currently included when you install [Anaconda](https://www.anaconda.com/). Anaconda also makes sure that the versions of each package are consistent and provides helpful tools like Jupyter Lab, where you can run this notebook. \n"
   ]
  },
  {
   "cell_type": "markdown",
   "id": "18172bfc-0148-49c5-96ae-6a5d94b4a51b",
   "metadata": {
    "tags": []
   },
   "source": [
    "### NumPy\n",
    "\n",
    "[NumPy](https://numpy.org/) provides the _array_ data type and a wide range of functions to work with them. This pacakge forms the foundation for most scientific computation done with python. Spending time getting comfortable with using numpy is a wise investment. If you have used vectors in either MATLAB or R the numpy array should feel familiar. The numpy organization has [learning resources](https://numpy.org/learn/) on their website. There is also a [cheat sheet](http://datacamp-community-prod.s3.amazonaws.com/ba1fe95a-8b70-4d2f-95b0-bc954e9071b0) available from DataCamp."
   ]
  },
  {
   "cell_type": "markdown",
   "id": "1f1940a7-7b30-4b3b-ab0b-75e404cd6c24",
   "metadata": {
    "tags": []
   },
   "source": [
    "### SciPy\n",
    "\n",
    "[SciPy](https://docs.scipy.org/doc/scipy/tutorial/general.html) provides a wide range of mathematical algorithms. For example, there are clustering algorithms, fourier transforms, numerical integration, and optimisation and root-finding algorithms. scipy makes use of the numpy array."
   ]
  },
  {
   "cell_type": "markdown",
   "id": "72aca0cf-2ff0-4cc4-804d-790512084141",
   "metadata": {
    "tags": []
   },
   "source": [
    "### Matplotlib\n",
    "\n",
    "Matplotlib is a general purpose plotting library for python. Visualisation is a key skill of the statistician, learning how to use an established plotting library is another wise investment. Matplotlib provides a [gallery](https://matplotlib.org/stable/gallery/index.html) of examples and their code to get you started. There are many plotting libraries out there, but Matplotlib is probably the most established plotting library in python so it is a good place to start. If you want to explore alternatives, [seaborn](https://seaborn.pydata.org/index.html) is a wrapper around matplotlib designed for statistical graphics and [altair](https://altair-viz.github.io/) is a more powerful declarative plotting package. The [Python Graph Gallery](https://www.python-graph-gallery.com/) is a wonderful resource for finding different types of chart along with code to help you build them."
   ]
  },
  {
   "cell_type": "markdown",
   "id": "dd015965-ae86-4f38-95f1-0254a54b5571",
   "metadata": {
    "tags": []
   },
   "source": [
    "### Pandas\n",
    "\n",
    "Much of the data we will consider in this course is _tabular_, meaning it can be represented as a table of values. The _dataframe_ is a data structure particularly well suited for working with tabular data. If you have any experience with R you will no doubt be familiar with its `data.frame`s. Pandas is an attempt to bring this functionality to the python ecosystem. Pandas provides some visualisation functionality but it is less flexible than matplotlib. As with NumPy, DataCamp has a [cheat sheet](http://datacamp-community-prod.s3.amazonaws.com/f04456d7-8e61-482f-9cc9-da6f7f25fc9b) for Pandas. For those familiar with R, another [cheat sheet](https://storage.googleapis.com/kaggle-forum-message-attachments/876179/15757/Pandas%20Cheat%20Sheet.pdf) is available based on familiar operations from RStudio."
   ]
  },
  {
   "cell_type": "markdown",
   "id": "a6614bae-92e5-4d67-b934-40ac2efa3da6",
   "metadata": {
    "tags": []
   },
   "source": [
    "### Statsmodels\n",
    "\n",
    "This package provides statistical algorithms. For example, there are functions to fit linear and genealized linear models to data."
   ]
  },
  {
   "cell_type": "markdown",
   "id": "a1a235d3-d290-4e68-b05b-a11540a97a6a",
   "metadata": {},
   "source": [
    "## Numpy\n",
    "\n",
    "The first thing to do with any package is to import it. The convention when using numpy is to import it as `np`."
   ]
  },
  {
   "cell_type": "code",
   "execution_count": 1,
   "id": "7b41be23-0058-493a-b8c5-60df92b3d9d8",
   "metadata": {},
   "outputs": [],
   "source": [
    "import numpy as np"
   ]
  },
  {
   "cell_type": "markdown",
   "id": "8740b2c8-c543-44c3-bbef-5d9960a30f15",
   "metadata": {},
   "source": [
    "Since we don't have any data yet, we will generate an array containing some numbers. The `linspace` function returns an array of uniformly spaced values."
   ]
  },
  {
   "cell_type": "code",
   "execution_count": 2,
   "id": "19cb02e2-375c-4093-a5d9-24c0b25197cb",
   "metadata": {},
   "outputs": [],
   "source": [
    "x = np.linspace(1, 8, 101)"
   ]
  },
  {
   "cell_type": "markdown",
   "id": "419396d5-8244-4f4e-82ed-7bdf1fe49c91",
   "metadata": {},
   "source": [
    "### Basic Functions\n",
    "There are lots of things we want to be able to do with arrays: find the minimum and maximum, range of values, and sum of the values for example. Some of these are methods of the numpy array, so we use `x.method()`. For others, the functions are part of numpy itself, so we use `np.function(x)`. Finally, the length of an array is native to python, so we call it directly `len(x)`. You'll learn over time where different operations live, or you can always search online in the documentation."
   ]
  },
  {
   "cell_type": "code",
   "execution_count": 3,
   "id": "ca532d4c-0983-46a3-ad37-27fe0e5e7124",
   "metadata": {},
   "outputs": [
    {
     "name": "stdout",
     "output_type": "stream",
     "text": [
      "Min:   1.0\n",
      "Max:   8.0\n",
      "Range: 7.0\n",
      "Sum:   454.5000000000001\n",
      "Count: 101\n"
     ]
    }
   ],
   "source": [
    "print(f'Min:   {x.min()}')\n",
    "print(f'Max:   {x.max()}')\n",
    "# ptp returns the range of values in the array.\n",
    "print(f'Range: {x.ptp()}')\n",
    "print(f'Sum:   {np.sum(x)}')\n",
    "print(f'Count: {len(x)}')"
   ]
  },
  {
   "cell_type": "markdown",
   "id": "1f1829f5-bedb-4370-b73f-4b02fda90f21",
   "metadata": {},
   "source": [
    "There are also a range of statistical functions provided by numpy that are worth knowing about. It's also a good habit to think about your reader when presenting information. Here, we have rounded to two decimal places."
   ]
  },
  {
   "cell_type": "code",
   "execution_count": 4,
   "id": "a9364555-5d78-4e98-8a54-9ca56e41f871",
   "metadata": {},
   "outputs": [
    {
     "name": "stdout",
     "output_type": "stream",
     "text": [
      "Median:   4.50\n",
      "Mean:     4.50\n",
      "Std Dev:  2.04\n",
      "Variance: 4.17\n"
     ]
    }
   ],
   "source": [
    "print(f'Median:   {np.median(x):.2f}')\n",
    "print(f'Mean:     {np.mean(x):.2f}')\n",
    "print(f'Std Dev:  {np.std(x):.2f}')\n",
    "print(f'Variance: {np.var(x):.2f}')"
   ]
  },
  {
   "cell_type": "markdown",
   "id": "585cc548-8703-4759-945e-cd9e2a05513d",
   "metadata": {},
   "source": [
    "Numpy also contains a lot of mathematical functions, many of which are vectorised. This means that they apply element-wise to the values in the array. For example, we can evaluate the sine function on each element of the array."
   ]
  },
  {
   "cell_type": "code",
   "execution_count": 4,
   "id": "e3b8a34a-05d9-4843-9936-e3f40e21ef4b",
   "metadata": {},
   "outputs": [
    {
     "name": "stdout",
     "output_type": "stream",
     "text": [
      "[ 0.0000000e+00  1.0000000e+00  1.2246468e-16 -1.0000000e+00\n",
      " -2.4492936e-16]\n"
     ]
    }
   ],
   "source": [
    "x = np.array([0, np.pi/2, np.pi,3*np.pi/2,2*np.pi])\n",
    "sin_vals = np.sin(x)\n",
    "print(sin_vals)"
   ]
  },
  {
   "cell_type": "markdown",
   "id": "694899c1-a19e-450a-ba65-db536517d128",
   "metadata": {},
   "source": [
    "### Indexing and Filtering"
   ]
  },
  {
   "cell_type": "markdown",
   "id": "21eb6d5a-6e3c-4e62-8cc3-cb1c6dfb1cdd",
   "metadata": {},
   "source": [
    "You can access a particular element of an array using square braces."
   ]
  },
  {
   "cell_type": "code",
   "execution_count": 5,
   "id": "b3f27785-6e2d-4bab-ac3f-1c446508fa07",
   "metadata": {},
   "outputs": [
    {
     "name": "stdout",
     "output_type": "stream",
     "text": [
      "0.0\n",
      "1.57\n"
     ]
    }
   ],
   "source": [
    "x = np.array([0, np.pi/2, np.pi,3*np.pi/2,2*np.pi])\n",
    "print(x[0])\n",
    "print(f'{x[1]:.2f}')"
   ]
  },
  {
   "cell_type": "markdown",
   "id": "36773ea5-3ce5-4a6b-9685-138441345b50",
   "metadata": {},
   "source": [
    "We might also want to count how many values are bigger than some threshold. Similar to the sine function, logical operations can be vectorized, so `>` returns a Boolean array indicating which numbers are greater than the threshold."
   ]
  },
  {
   "cell_type": "code",
   "execution_count": 6,
   "id": "27b5ce0a-fbf8-4678-8ff0-f347787bf471",
   "metadata": {},
   "outputs": [
    {
     "data": {
      "text/plain": [
       "array([False, False,  True,  True,  True])"
      ]
     },
     "execution_count": 6,
     "metadata": {},
     "output_type": "execute_result"
    }
   ],
   "source": [
    "x>3"
   ]
  },
  {
   "cell_type": "markdown",
   "id": "603ac6e5-0468-4ed2-a87d-1a52a90edae8",
   "metadata": {},
   "source": [
    "We can use that array as a filter on the original array to find just the values greater than 3."
   ]
  },
  {
   "cell_type": "code",
   "execution_count": 7,
   "id": "daf04e29-88b5-4469-b8e5-8a27b7f4885a",
   "metadata": {},
   "outputs": [
    {
     "data": {
      "text/plain": [
       "array([3.14159265, 4.71238898, 6.28318531])"
      ]
     },
     "execution_count": 7,
     "metadata": {},
     "output_type": "execute_result"
    }
   ],
   "source": [
    "x[x > 3]"
   ]
  },
  {
   "cell_type": "markdown",
   "id": "d416711e-57ea-4a43-82ac-6702088b54f8",
   "metadata": {},
   "source": [
    "From here, it is easy to count them. In fact, there are multiple ways to do it. We showed you `len(x)` before, but `x.size` is a better for numpy arrays because it would work even if `x` had more than one dimension."
   ]
  },
  {
   "cell_type": "code",
   "execution_count": 8,
   "id": "4f1b8c73-49f2-46a4-8c77-236130d01387",
   "metadata": {},
   "outputs": [
    {
     "data": {
      "text/plain": [
       "3"
      ]
     },
     "execution_count": 8,
     "metadata": {},
     "output_type": "execute_result"
    }
   ],
   "source": [
    "x[x>3].size"
   ]
  },
  {
   "cell_type": "markdown",
   "id": "9b210a35-e1d6-491a-806c-6156ba7312e7",
   "metadata": {},
   "source": [
    "**WARNING:** There are a couple of ways to index into a numpy array and they have different effects. Understanding how to exploit this is useful but beyond the scope of this course. "
   ]
  },
  {
   "cell_type": "markdown",
   "id": "98fb82bf-bf67-40a3-9527-b1a84a9fea45",
   "metadata": {
    "tags": []
   },
   "source": [
    "### Question\n",
    "\n",
    "Implement a function to compute the median of an array without using the `median` method. Did it mutate your array? Did you need to make a copy of the array? We've given you a starter function and a testing example to help.\n",
    "\n",
    "_Hint:_ [sort function](https://numpy.org/doc/stable/reference/generated/numpy.sort.html?highlight=sort#numpy.sort), [sort method](https://numpy.org/doc/stable/reference/generated/numpy.ndarray.sort.html?highlight=sort#numpy.ndarray.sort)"
   ]
  },
  {
   "cell_type": "code",
   "execution_count": 18,
   "id": "9ba475be-a2eb-4ef2-babf-d27462e8b2ac",
   "metadata": {},
   "outputs": [],
   "source": [
    "def my_median(a):\n",
    "    \"\"\"Calculates the median\"\"\"\n",
    "    x = np.sort(a)\n",
    "    if x.size % 2 == 0:\n",
    "        return (x[x.size//2] + x[x.size//2 - 1])/2\n",
    "    else:\n",
    "        return x[x.size//2]"
   ]
  },
  {
   "cell_type": "code",
   "execution_count": 19,
   "id": "c7c1859e-e56c-4b4b-af23-00f709b9af3e",
   "metadata": {},
   "outputs": [
    {
     "name": "stdout",
     "output_type": "stream",
     "text": [
      "Actual Median: 2.5\n",
      "My Median 2.5\n",
      "Test Result: True\n",
      "\n"
     ]
    }
   ],
   "source": [
    "aa = np.linspace(-5,10,11)\n",
    "\n",
    "print(f'Actual Median: {np.median(aa)}\\n'\n",
    "      f'My Median {my_median(aa)}\\n'\n",
    "      f'Test Result: {np.median(aa) == my_median(aa)}\\n')"
   ]
  },
  {
   "cell_type": "markdown",
   "id": "c751b063-4c4b-47f2-bfa6-0534ac66dfeb",
   "metadata": {},
   "source": [
    "## Scipy\n",
    "\n",
    "The convention here is to import the statistics submodule as `stats`."
   ]
  },
  {
   "cell_type": "code",
   "execution_count": 14,
   "id": "752d90bc-3049-4ea1-8c4a-6882932c2e15",
   "metadata": {},
   "outputs": [],
   "source": [
    "import scipy.stats as stats"
   ]
  },
  {
   "cell_type": "markdown",
   "id": "c91a2424-b7c0-492d-99a3-0cecb8f5c5a2",
   "metadata": {},
   "source": [
    "Generating random numbers is a common task in statistics. There are lots of [distributions](https://docs.scipy.org/doc/scipy/reference/stats.html#probability-distributions) available in scipy. The lines below return arrays of normal random variables with a specified mean and standard deviation. In general, you should check the documentation for the definition used for `loc` and `scale` as it can vary."
   ]
  },
  {
   "cell_type": "code",
   "execution_count": 15,
   "id": "0dd43f50-6912-48f3-9eaf-3cc6bed2f87e",
   "metadata": {
    "tags": []
   },
   "outputs": [],
   "source": [
    "norm_rvs = stats.norm.rvs(loc = 0, scale = 1, size = 101)"
   ]
  },
  {
   "cell_type": "markdown",
   "id": "627f70d4-302b-4e40-b882-10ee5a0bbd90",
   "metadata": {},
   "source": [
    "The `stats.norm` object has lots of methods though, for example, you can ask for the mean of the distribution and evaluate its probability density function."
   ]
  },
  {
   "cell_type": "code",
   "execution_count": 16,
   "id": "1a80896b-06d3-4ba7-a83e-af29d645a51e",
   "metadata": {},
   "outputs": [
    {
     "data": {
      "text/plain": [
       "0.0"
      ]
     },
     "execution_count": 16,
     "metadata": {},
     "output_type": "execute_result"
    }
   ],
   "source": [
    "stats.norm.mean(loc = 0, scale = 1)"
   ]
  },
  {
   "cell_type": "code",
   "execution_count": 17,
   "id": "aebf3ed7-d11a-4555-93ed-9ac9e5792313",
   "metadata": {},
   "outputs": [
    {
     "data": {
      "text/plain": [
       "0.24197072451914337"
      ]
     },
     "execution_count": 17,
     "metadata": {},
     "output_type": "execute_result"
    }
   ],
   "source": [
    "stats.norm.pdf(x = 1, loc = 0, scale = 1)\n"
   ]
  },
  {
   "cell_type": "markdown",
   "id": "a9f5cd01-b53a-4848-9827-87e12ff082f7",
   "metadata": {},
   "source": [
    "### Question\n",
    "\n",
    "Generate a large number of random variable with a geometric distribution with parameter $p = 1/2$ and confirm that the average of these values is close to the mean of that distribution. \n",
    "\n",
    "*Hint:* the [wikipedia page](https://en.wikipedia.org/wiki/Geometric_distribution) for the geometric distribution may be useful with this."
   ]
  },
  {
   "cell_type": "markdown",
   "id": "0985e856-ab5e-41d4-af1d-ed308abb57ce",
   "metadata": {},
   "source": [
    "### Question\n",
    "\n",
    "The median and mean are to ways to describe \"middle\" of a dataset. When would the mean be more useful? When would the median be more useful?"
   ]
  },
  {
   "cell_type": "markdown",
   "id": "fe59bcc6-2c0e-47c2-8736-892e135ac2c8",
   "metadata": {},
   "source": [
    "## Matplotlib\n",
    "\n",
    "We will primarily use the pyplot interface for matplotlib. The convention here is to import this module as `plt`. The command `%matplotlib inline` is called \"cell magic\" and makes the plots appear under the cells in Jupyter notebooks."
   ]
  },
  {
   "cell_type": "code",
   "execution_count": 23,
   "id": "08d55a31-f271-446b-9531-e999935a3262",
   "metadata": {},
   "outputs": [],
   "source": [
    "import matplotlib.pyplot as plt\n",
    "%matplotlib inline"
   ]
  },
  {
   "cell_type": "markdown",
   "id": "2c60eee9-d865-4206-b691-9d98966fc52e",
   "metadata": {},
   "source": [
    "Below we provide the code for some of the fundemental plots you will need. There is an extensive [gallery](https://matplotlib.org/stable/gallery/index.html) to demonstrate more complex plots. "
   ]
  },
  {
   "cell_type": "markdown",
   "id": "70e9e605-188a-4f55-ae95-fad5abb0e3f6",
   "metadata": {},
   "source": [
    "### Line plot"
   ]
  },
  {
   "cell_type": "code",
   "execution_count": 18,
   "id": "d8afafcb-1473-4fa5-b682-9a4428143514",
   "metadata": {},
   "outputs": [],
   "source": [
    "x = np.linspace(0,np.pi*2,101)\n",
    "sin_vals = np.sin(x)"
   ]
  },
  {
   "cell_type": "code",
   "execution_count": 19,
   "id": "2a693412-bf4d-42dc-87d7-630faa8e87a9",
   "metadata": {},
   "outputs": [
    {
     "data": {
      "image/png": "[encoded data removed]",
      "text/plain": [
       "<Figure size 432x288 with 1 Axes>"
      ]
     },
     "metadata": {
      "needs_background": "light"
     },
     "output_type": "display_data"
    }
   ],
   "source": [
    "plt.figure()\n",
    "plt.plot(x, sin_vals, color = \"#67a9cf\")\n",
    "plt.show()"
   ]
  },
  {
   "cell_type": "markdown",
   "id": "5024b8d1-3daf-4c9d-b5be-a1883488426c",
   "metadata": {},
   "source": [
    "### Scatter plot"
   ]
  },
  {
   "cell_type": "code",
   "execution_count": 20,
   "id": "ed93cd39-d698-4c03-880f-435a20e5db41",
   "metadata": {},
   "outputs": [
    {
     "data": {
      "image/png": "[encoded data removed]",
      "text/plain": [
       "<Figure size 432x288 with 1 Axes>"
      ]
     },
     "metadata": {
      "needs_background": "light"
     },
     "output_type": "display_data"
    }
   ],
   "source": [
    "plt.figure()\n",
    "plt.scatter(x, norm_rvs, color = \"#67a9cf\")\n",
    "plt.show()"
   ]
  },
  {
   "cell_type": "markdown",
   "id": "0561b6fa-bb48-4f9f-9aff-7ffda54bd2a1",
   "metadata": {},
   "source": [
    "### Histogram"
   ]
  },
  {
   "cell_type": "code",
   "execution_count": 21,
   "id": "bd69b774-889b-41ca-8ca2-4df050361f1f",
   "metadata": {},
   "outputs": [
    {
     "data": {
      "image/png": "[encoded data removed]",
      "text/plain": [
       "<Figure size 432x288 with 1 Axes>"
      ]
     },
     "metadata": {
      "needs_background": "light"
     },
     "output_type": "display_data"
    }
   ],
   "source": [
    "plt.figure()\n",
    "plt.hist(norm_rvs, bins = 10, color = \"#67a9cf\")\n",
    "plt.show()"
   ]
  },
  {
   "cell_type": "markdown",
   "id": "b51b3c41-6848-4aee-971f-22351fecad5d",
   "metadata": {},
   "source": [
    "### Multiple layers"
   ]
  },
  {
   "cell_type": "code",
   "execution_count": 22,
   "id": "74f76fb6-7757-4457-a229-fd3d344f209b",
   "metadata": {},
   "outputs": [
    {
     "data": {
      "image/png": "[encoded data removed]",
      "text/plain": [
       "<Figure size 432x288 with 1 Axes>"
      ]
     },
     "metadata": {
      "needs_background": "light"
     },
     "output_type": "display_data"
    }
   ],
   "source": [
    "fig = plt.figure()\n",
    "ax = fig.add_axes([0.1,0.1,0.8,0.8])\n",
    "ax.plot(x, sin_vals, color = \"#ef8a62\", label = \"Sine\")\n",
    "ax.scatter(x, norm_rvs, color = \"#67a9cf\", label = \"Random\")\n",
    "ax.legend(loc = \"upper right\")\n",
    "ax.set_xlabel(\"My x-axis title\")\n",
    "ax.set_ylabel(\"My y-axis title\")\n",
    "plt.show()"
   ]
  },
  {
   "cell_type": "markdown",
   "id": "7d9b99de-590c-4ee2-9b4d-879ca4887b59",
   "metadata": {},
   "source": [
    "### Question\n",
    "\n",
    "Without looking at the answer below, attmpet to create this plot where the histogram is of 1000 exponential random variables, $\\lambda = 1.0$, and we have drawn the density of this distribution on top.\n",
    "\n",
    "<img src=\"./challenge-figure-hist.png\" style=\"width: 500px;\"/>"
   ]
  },
  {
   "cell_type": "code",
   "execution_count": 25,
   "id": "4fc0528d",
   "metadata": {},
   "outputs": [
    {
     "data": {
      "image/png": "[encoded data removed]",
      "text/plain": [
       "<Figure size 640x480 with 1 Axes>"
      ]
     },
     "metadata": {},
     "output_type": "display_data"
    }
   ],
   "source": [
    "# Sample from the exponential distribution\n",
    "x = stats.expon.rvs(size = 1000, scale = 1)\n",
    "# Create the support for the theoretical distribution\n",
    "x_theor = np.linspace(x.min(), x.max(), 1000) # type: ignore\n",
    "# Create the theoretical distribution\n",
    "y_theor = stats.expon.pdf(x_theor, scale = 1)\n",
    "\n",
    "fig = plt.figure()\n",
    "ax = fig.add_axes([0.1,0.1,0.8,0.8])\n",
    "ax.hist(x, bins = 20, density = True, color = \"#67a9cf\")\n",
    "ax.plot(x_theor, y_theor, color = \"#ef8a62\")\n",
    "ax.set_xlabel(\"Value\")\n",
    "ax.set_ylabel(\"Density\")\n",
    "ax.set_title(\"Exponential Random Variable\")\n",
    "plt.show()"
   ]
  },
  {
   "cell_type": "markdown",
   "id": "508ab81b-381a-44bb-b007-51e0fe5a4093",
   "metadata": {},
   "source": [
    "### Question\n",
    "\n",
    "A simple way to approximate pi is to inscribe a circle into a square. The area of the circle divided by the area of the square will be pi/4. Create an image like the one below, which uses this approach to approximate the value of pi. Be sure the title updates automatically.\n",
    "\n",
    "<img src=\"./challenge-figure-pi.png\" style=\"width: 500px;\"/>"
   ]
  },
  {
   "cell_type": "code",
   "execution_count": 31,
   "id": "454a8d65",
   "metadata": {},
   "outputs": [
    {
     "data": {
      "image/png": "[encoded data removed]",
      "text/plain": [
       "<Figure size 640x480 with 1 Axes>"
      ]
     },
     "metadata": {},
     "output_type": "display_data"
    }
   ],
   "source": [
    "N = 1000\n",
    "# Sample points from a uniform distribution between -1 and 1 (x, y)\n",
    "x = np.random.uniform(-1, 1, N)\n",
    "y = np.random.uniform(-1, 1, N)\n",
    "# check if the points are inside the circle\n",
    "inside = (x**2 + y**2) < 1\n",
    "# calculate the ratio of points inside the circle\n",
    "pi_estimate = 4 * inside.sum() / N\n",
    "\n",
    "# plot the points and circle\n",
    "fig = plt.figure()\n",
    "ax = fig.add_axes([0.1,0.1,0.8,0.8])\n",
    "ax.scatter(x[inside], y[inside], color = \"#67a9cf\")\n",
    "ax.scatter(x[~inside], y[~inside], color = \"#ef8a62\")\n",
    "circle = plt.Circle((0,0), 1, color = \"b\", fill = False)\n",
    "ax.add_artist(circle)\n",
    "ax.set_xlim(-1,1)\n",
    "ax.set_ylim(-1,1)\n",
    "ax.set_aspect(\"equal\")\n",
    "ax.set_title(\"Estimate of Pi: {:.3f}\".format(pi_estimate))\n",
    "plt.show()"
   ]
  },
  {
   "cell_type": "markdown",
   "id": "27578f9b-2428-42d2-aeb7-a39ec9b743f3",
   "metadata": {},
   "source": [
    "### Extra Challenge"
   ]
  },
  {
   "cell_type": "markdown",
   "id": "d95980ab-0bcf-4fa3-bc1d-105b4613abd9",
   "metadata": {},
   "source": [
    "It is possible to compute the standard deviation of the distribution of estimated values for pi using a binomial distribution. In the example above, we take 1000 samples. How many samples would be needed to ensure that the estimate is correct to three digits (3.14) with 99% probability?\n",
    "\n",
    "**Note**: This is beyond the scope of this section, but is something you should be able to work out by the end of the course."
   ]
  },
  {
   "cell_type": "markdown",
   "id": "dc724fb1-c1a0-4513-94d6-fa846496db67",
   "metadata": {},
   "source": [
    "## Pandas\n",
    "\n",
    "Pandas provides functions for a lot of standard data manipulations, and is a very popular Python package in data science for that reason. This includes functions for [reading data from many formats](https://pandas.pydata.org/docs/getting_started/intro_tutorials/02_read_write.html#min-tut-02-read-write). The convention is to import it as `pd`. The `head` method prints the first couple of rows in the dataframe."
   ]
  },
  {
   "cell_type": "code",
   "execution_count": 32,
   "id": "a529530a-b977-4dec-9b91-2b1b4394a9ed",
   "metadata": {},
   "outputs": [],
   "source": [
    "import pandas as pd"
   ]
  },
  {
   "cell_type": "markdown",
   "id": "56f51ef3-932f-4eeb-8b7b-9b5f77878b64",
   "metadata": {},
   "source": [
    "The `read_csv` function will read a CSV into a pandas dataframe. Pandas will first attempt to load the data from a local file, but if it cannot find `iris.csv` it will attempt to download it from the URL given. Here we are loading the `iris` data set, which has some information about flowers of three related species."
   ]
  },
  {
   "cell_type": "code",
   "execution_count": 33,
   "id": "d6188ddc-255b-4ef9-9d73-a6d008119555",
   "metadata": {
    "tags": []
   },
   "outputs": [
    {
     "name": "stdout",
     "output_type": "stream",
     "text": [
      "iris loaded from file\n",
      "\n"
     ]
    },
    {
     "data": {
      "text/html": [
       "<div>\n",
       "<style scoped>\n",
       "    .dataframe tbody tr th:only-of-type {\n",
       "        vertical-align: middle;\n",
       "    }\n",
       "\n",
       "    .dataframe tbody tr th {\n",
       "        vertical-align: top;\n",
       "    }\n",
       "\n",
       "    .dataframe thead th {\n",
       "        text-align: right;\n",
       "    }\n",
       "</style>\n",
       "<table border=\"1\" class=\"dataframe\">\n",
       "  <thead>\n",
       "    <tr style=\"text-align: right;\">\n",
       "      <th></th>\n",
       "      <th>sepal_length</th>\n",
       "      <th>sepal_width</th>\n",
       "      <th>petal_length</th>\n",
       "      <th>petal_width</th>\n",
       "      <th>species</th>\n",
       "    </tr>\n",
       "  </thead>\n",
       "  <tbody>\n",
       "    <tr>\n",
       "      <th>0</th>\n",
       "      <td>5.1</td>\n",
       "      <td>3.5</td>\n",
       "      <td>1.4</td>\n",
       "      <td>0.2</td>\n",
       "      <td>setosa</td>\n",
       "    </tr>\n",
       "    <tr>\n",
       "      <th>1</th>\n",
       "      <td>4.9</td>\n",
       "      <td>3.0</td>\n",
       "      <td>1.4</td>\n",
       "      <td>0.2</td>\n",
       "      <td>setosa</td>\n",
       "    </tr>\n",
       "    <tr>\n",
       "      <th>2</th>\n",
       "      <td>4.7</td>\n",
       "      <td>3.2</td>\n",
       "      <td>1.3</td>\n",
       "      <td>0.2</td>\n",
       "      <td>setosa</td>\n",
       "    </tr>\n",
       "    <tr>\n",
       "      <th>3</th>\n",
       "      <td>4.6</td>\n",
       "      <td>3.1</td>\n",
       "      <td>1.5</td>\n",
       "      <td>0.2</td>\n",
       "      <td>setosa</td>\n",
       "    </tr>\n",
       "    <tr>\n",
       "      <th>4</th>\n",
       "      <td>5.0</td>\n",
       "      <td>3.6</td>\n",
       "      <td>1.4</td>\n",
       "      <td>0.2</td>\n",
       "      <td>setosa</td>\n",
       "    </tr>\n",
       "  </tbody>\n",
       "</table>\n",
       "</div>"
      ],
      "text/plain": [
       "   sepal_length  sepal_width  petal_length  petal_width species\n",
       "0           5.1          3.5           1.4          0.2  setosa\n",
       "1           4.9          3.0           1.4          0.2  setosa\n",
       "2           4.7          3.2           1.3          0.2  setosa\n",
       "3           4.6          3.1           1.5          0.2  setosa\n",
       "4           5.0          3.6           1.4          0.2  setosa"
      ]
     },
     "execution_count": 33,
     "metadata": {},
     "output_type": "execute_result"
    }
   ],
   "source": [
    "iris_url = \"https://raw.githubusercontent.com/aezarebski/aas-extended-examples/main/example-0/iris.csv\"\n",
    "iris_file = \"iris.csv\"\n",
    "\n",
    "try:\n",
    "    iris = pd.read_csv(iris_file)\n",
    "    print(\"iris loaded from file\\n\")\n",
    "except:\n",
    "    print(\"Could not load iris from file, defaulting to URL\")\n",
    "    iris = pd.read_csv(iris_url)\n",
    "    print(\"iris loaded from URL\\n\")\n",
    "        \n",
    "iris.head()"
   ]
  },
  {
   "cell_type": "markdown",
   "id": "c04cc8f3-e138-4680-b8d6-a81d04da7e59",
   "metadata": {},
   "source": [
    "The following cell demonstrates how we can use the `query` method to select a subset of the data and then plot it."
   ]
  },
  {
   "cell_type": "code",
   "execution_count": 27,
   "id": "651bb78e-bf70-440d-8ddc-7b5bbae9db33",
   "metadata": {},
   "outputs": [
    {
     "data": {
      "image/png": "[encoded data removed]",
      "text/plain": [
       "<Figure size 432x288 with 1 Axes>"
      ]
     },
     "metadata": {
      "needs_background": "light"
     },
     "output_type": "display_data"
    }
   ],
   "source": [
    "plt.figure()\n",
    "for species in iris.species.unique():\n",
    "    tmp = iris.query(\"species == '{s}'\".format(s = species))\n",
    "    plt.scatter(tmp.sepal_length, tmp.sepal_width, label = species)\n",
    "plt.xlabel(\"Sepal Length\")\n",
    "plt.ylabel(\"Sepal Width\")\n",
    "plt.legend(title = \"Species\", loc = \"upper right\")\n",
    "plt.show()"
   ]
  },
  {
   "cell_type": "markdown",
   "id": "fb118225-09fe-412f-9057-70cb26a93b43",
   "metadata": {},
   "source": [
    "Pandas provides many tools to wrangle data. The following example summarises the sepal length of each species. It starts by grouping the data by species, then it extracts the sepal length variable, finally it computes the mean and standard deviation of these values"
   ]
  },
  {
   "cell_type": "code",
   "execution_count": 28,
   "id": "7cb61f4f-7df0-4e88-beab-54133b8c1e77",
   "metadata": {},
   "outputs": [
    {
     "name": "stdout",
     "output_type": "stream",
     "text": [
      "           sepal_length       \n",
      "                    std   mean\n",
      "species                       \n",
      "setosa         0.352490  5.006\n",
      "versicolor     0.516171  5.936\n",
      "virginica      0.635880  6.588\n"
     ]
    }
   ],
   "source": [
    "iris_summary = iris.groupby(\"species\")[[\"sepal_length\"]].agg({\"sepal_length\": [\"std\", \"mean\"]})\n",
    "print(iris_summary)"
   ]
  },
  {
   "cell_type": "markdown",
   "id": "69601698-08c3-4c37-a65c-8db121b4b8d1",
   "metadata": {},
   "source": [
    "Depending upon the version of pandas the previous code may throw an error. If that is the case, try replacing it with the following\n",
    "\n",
    "```\n",
    "iris_summary = iris.groupby(\"species\").agg({\"sepal_length\": [\"std\", \"mean\"]})\n",
    "```"
   ]
  },
  {
   "cell_type": "markdown",
   "id": "022dda49-9b5d-4b91-a83a-999be4184874",
   "metadata": {},
   "source": [
    "This data can then be represented as a bar chart with error bars to indicate two standard deviations about the mean. This is a popular way to visualise this sort of data. It is not the optimal way to represent this data, can you think of a better way? Why do you think we have used two standard deviations in the error bars?"
   ]
  },
  {
   "cell_type": "code",
   "execution_count": 29,
   "id": "8de192f6-b2fc-4aaa-982b-88b00637f996",
   "metadata": {},
   "outputs": [
    {
     "data": {
      "image/png": "[encoded data removed]",
      "text/plain": [
       "<Figure size 432x288 with 1 Axes>"
      ]
     },
     "metadata": {
      "needs_background": "light"
     },
     "output_type": "display_data"
    }
   ],
   "source": [
    "plt.figure()\n",
    "plt.bar(iris_summary.index, \n",
    "        iris_summary.sepal_length[\"mean\"], \n",
    "        yerr=2*iris_summary.sepal_length[\"std\"],\n",
    "        color = \"#67a9cf\")\n",
    "plt.xlabel(\"Species\")\n",
    "plt.ylabel(\"Sepal Length\")\n",
    "plt.show()"
   ]
  },
  {
   "cell_type": "markdown",
   "id": "ebecdd39-ec8c-4a58-a314-b90f3c950c23",
   "metadata": {},
   "source": [
    "### Question\n",
    "\n",
    "Find a better (in your opinion) way to display these data and explain why you think it is better."
   ]
  },
  {
   "cell_type": "code",
   "execution_count": 38,
   "id": "bc91fb89",
   "metadata": {},
   "outputs": [
    {
     "data": {
      "text/plain": [
       "([<matplotlib.axis.XTick at 0x1d13d838910>,\n",
       "  <matplotlib.axis.XTick at 0x1d13d8388e0>,\n",
       "  <matplotlib.axis.XTick at 0x1d13d8385b0>],\n",
       " [Text(1, 0, 'setosa'), Text(2, 0, 'versicolor'), Text(3, 0, 'virginica')])"
      ]
     },
     "execution_count": 38,
     "metadata": {},
     "output_type": "execute_result"
    },
    {
     "data": {
      "image/png": "[encoded data removed]",
      "text/plain": [
       "<Figure size 640x480 with 1 Axes>"
      ]
     },
     "metadata": {},
     "output_type": "display_data"
    }
   ],
   "source": [
    "# plot the iris data as a violin plot with x = species and y = sepal_length\n",
    "plt.figure()\n",
    "plt.violinplot([iris.query(\"species == '{s}'\".format(s = species))[\"sepal_length\"] for species in iris[\"species\"].unique()],\n",
    "                )\n",
    "plt.xticks(range(1,4), iris[\"species\"].unique())"
   ]
  },
  {
   "cell_type": "markdown",
   "id": "3b7e139d",
   "metadata": {},
   "source": [
    "I have chosen to plot the distibution of sepal length as a violin plot. There are good reasons both for *not* choosing a bar plot and for choosing a violin plot. Why shouldn't choose a bar chart (unless you publish in psychology journals):\n",
    "1. You present only summary statistics\n",
    "2. By presenting summary statistics, you embed a bunch of assumptions (i.e. normality)\n",
    "3. If the data doesn't strictly adhere to the assumptions, you will mislead the audience\n",
    "\n",
    "This brings us to the superiority of violin plots: \n",
    "1. It shows the full distributions #RealDistributionsHaveCurves\n",
    "2. It is more agnostic about assumptions\n",
    "3. It is still very easy (we don't have to plot by hand!)\n"
   ]
  },
  {
   "cell_type": "markdown",
   "id": "03b57eaf-bcee-4041-85df-dae469aa6f91",
   "metadata": {},
   "source": [
    "### Question\n",
    "\n",
    "What do you notice about the correlation between the sepal length and width? Is there a positive or negative correlation?\n",
    "\n",
    "* _Hint 1_ [hmmm](https://en.wikipedia.org/wiki/Simpson%27s_paradox)\n",
    "* _Hint 2_ [it should only take two lines of code](https://pandas.pydata.org/pandas-docs/stable/reference/api/pandas.core.groupby.DataFrameGroupBy.corr.html?highlight=corr#) \n"
   ]
  },
  {
   "cell_type": "code",
   "execution_count": 40,
   "id": "38cf163a",
   "metadata": {},
   "outputs": [
    {
     "name": "stderr",
     "output_type": "stream",
     "text": [
      "C:\\Users\\jhr\\AppData\\Local\\Temp\\ipykernel_11688\\3538184563.py:1: FutureWarning: The default value of numeric_only in DataFrame.corr is deprecated. In a future version, it will default to False. Select only valid columns or specify the value of numeric_only to silence this warning.\n",
      "  iris.corr()\n"
     ]
    },
    {
     "data": {
      "text/html": [
       "<div>\n",
       "<style scoped>\n",
       "    .dataframe tbody tr th:only-of-type {\n",
       "        vertical-align: middle;\n",
       "    }\n",
       "\n",
       "    .dataframe tbody tr th {\n",
       "        vertical-align: top;\n",
       "    }\n",
       "\n",
       "    .dataframe thead th {\n",
       "        text-align: right;\n",
       "    }\n",
       "</style>\n",
       "<table border=\"1\" class=\"dataframe\">\n",
       "  <thead>\n",
       "    <tr style=\"text-align: right;\">\n",
       "      <th></th>\n",
       "      <th></th>\n",
       "      <th>sepal_length</th>\n",
       "      <th>sepal_width</th>\n",
       "      <th>petal_length</th>\n",
       "      <th>petal_width</th>\n",
       "    </tr>\n",
       "    <tr>\n",
       "      <th>species</th>\n",
       "      <th></th>\n",
       "      <th></th>\n",
       "      <th></th>\n",
       "      <th></th>\n",
       "      <th></th>\n",
       "    </tr>\n",
       "  </thead>\n",
       "  <tbody>\n",
       "    <tr>\n",
       "      <th rowspan=\"4\" valign=\"top\">setosa</th>\n",
       "      <th>sepal_length</th>\n",
       "      <td>1.000000</td>\n",
       "      <td>0.742547</td>\n",
       "      <td>0.267176</td>\n",
       "      <td>0.278098</td>\n",
       "    </tr>\n",
       "    <tr>\n",
       "      <th>sepal_width</th>\n",
       "      <td>0.742547</td>\n",
       "      <td>1.000000</td>\n",
       "      <td>0.177700</td>\n",
       "      <td>0.232752</td>\n",
       "    </tr>\n",
       "    <tr>\n",
       "      <th>petal_length</th>\n",
       "      <td>0.267176</td>\n",
       "      <td>0.177700</td>\n",
       "      <td>1.000000</td>\n",
       "      <td>0.331630</td>\n",
       "    </tr>\n",
       "    <tr>\n",
       "      <th>petal_width</th>\n",
       "      <td>0.278098</td>\n",
       "      <td>0.232752</td>\n",
       "      <td>0.331630</td>\n",
       "      <td>1.000000</td>\n",
       "    </tr>\n",
       "    <tr>\n",
       "      <th rowspan=\"4\" valign=\"top\">versicolor</th>\n",
       "      <th>sepal_length</th>\n",
       "      <td>1.000000</td>\n",
       "      <td>0.525911</td>\n",
       "      <td>0.754049</td>\n",
       "      <td>0.546461</td>\n",
       "    </tr>\n",
       "    <tr>\n",
       "      <th>sepal_width</th>\n",
       "      <td>0.525911</td>\n",
       "      <td>1.000000</td>\n",
       "      <td>0.560522</td>\n",
       "      <td>0.663999</td>\n",
       "    </tr>\n",
       "    <tr>\n",
       "      <th>petal_length</th>\n",
       "      <td>0.754049</td>\n",
       "      <td>0.560522</td>\n",
       "      <td>1.000000</td>\n",
       "      <td>0.786668</td>\n",
       "    </tr>\n",
       "    <tr>\n",
       "      <th>petal_width</th>\n",
       "      <td>0.546461</td>\n",
       "      <td>0.663999</td>\n",
       "      <td>0.786668</td>\n",
       "      <td>1.000000</td>\n",
       "    </tr>\n",
       "    <tr>\n",
       "      <th rowspan=\"4\" valign=\"top\">virginica</th>\n",
       "      <th>sepal_length</th>\n",
       "      <td>1.000000</td>\n",
       "      <td>0.457228</td>\n",
       "      <td>0.864225</td>\n",
       "      <td>0.281108</td>\n",
       "    </tr>\n",
       "    <tr>\n",
       "      <th>sepal_width</th>\n",
       "      <td>0.457228</td>\n",
       "      <td>1.000000</td>\n",
       "      <td>0.401045</td>\n",
       "      <td>0.537728</td>\n",
       "    </tr>\n",
       "    <tr>\n",
       "      <th>petal_length</th>\n",
       "      <td>0.864225</td>\n",
       "      <td>0.401045</td>\n",
       "      <td>1.000000</td>\n",
       "      <td>0.322108</td>\n",
       "    </tr>\n",
       "    <tr>\n",
       "      <th>petal_width</th>\n",
       "      <td>0.281108</td>\n",
       "      <td>0.537728</td>\n",
       "      <td>0.322108</td>\n",
       "      <td>1.000000</td>\n",
       "    </tr>\n",
       "  </tbody>\n",
       "</table>\n",
       "</div>"
      ],
      "text/plain": [
       "                         sepal_length  sepal_width  petal_length  petal_width\n",
       "species                                                                      \n",
       "setosa     sepal_length      1.000000     0.742547      0.267176     0.278098\n",
       "           sepal_width       0.742547     1.000000      0.177700     0.232752\n",
       "           petal_length      0.267176     0.177700      1.000000     0.331630\n",
       "           petal_width       0.278098     0.232752      0.331630     1.000000\n",
       "versicolor sepal_length      1.000000     0.525911      0.754049     0.546461\n",
       "           sepal_width       0.525911     1.000000      0.560522     0.663999\n",
       "           petal_length      0.754049     0.560522      1.000000     0.786668\n",
       "           petal_width       0.546461     0.663999      0.786668     1.000000\n",
       "virginica  sepal_length      1.000000     0.457228      0.864225     0.281108\n",
       "           sepal_width       0.457228     1.000000      0.401045     0.537728\n",
       "           petal_length      0.864225     0.401045      1.000000     0.322108\n",
       "           petal_width       0.281108     0.537728      0.322108     1.000000"
      ]
     },
     "execution_count": 40,
     "metadata": {},
     "output_type": "execute_result"
    }
   ],
   "source": [
    "iris.corr()\n",
    "iris.groupby(\"species\").corr()"
   ]
  },
  {
   "cell_type": "markdown",
   "id": "fae31822",
   "metadata": {},
   "source": [
    "This is a classic case of simpsons paradox: When you don't group by species, the correlation appears negative, whereas if you do all the subgroups have positive correlations.\n",
    "\n",
    "The reason for this paradox is that there is a negative correlation *between* the groups. Setosa and virginica tend to have opposite characteristics: setosa is relatively short but wide whereas virginica is wide but short. However, within each species the wider individuals tend to be longer (i.e. they're just bigger)\n",
    "\n",
    "Resolving Simpson's paradox correctly can be tricky. In his case, however, it makes more sense to treat each group individually, as we expect them to be relatively similar. If we were more formal in our approach, we would justify this with a [DAG](https://cran.r-project.org/web/packages/ggdag/vignettes/intro-to-dags.html)."
   ]
  },
  {
   "cell_type": "markdown",
   "id": "217ef3d0-99d5-402b-b457-d6ce7d2461b4",
   "metadata": {},
   "source": [
    "## Statsmodels\n",
    "\n",
    "We will cover this in subsequent tutorials when we begin to deal with models and regression."
   ]
  },
  {
   "cell_type": "markdown",
   "id": "7198fba3-48ca-4c84-850c-2ecb085e3f7e",
   "metadata": {
    "tags": []
   },
   "source": [
    "## US census data\n",
    "\n",
    "For the rest of this notebook, we will apply the things we've learned to actual data. There are lots of great datasets freely available online. The dataset we will use comes from the 1994 US census and is available as part of the [UCI Machine Learning Repository](http://archive.ics.uci.edu/ml/datasets/Adult). We will start by reading in the data and ensuring that the column names have been specified correctly. In this case the data is in the `adult.data` file, which is a CSV, and the meta-data, the column names, is in `adult.header`. Sometimes these data are combined in a single file, sometimes they are separate.\n",
    "\n",
    "An important takeaway from this section is the value of visual presentation. In many cases, a good chart tells you more about the data than just the descriptive statistics."
   ]
  },
  {
   "cell_type": "code",
   "execution_count": 41,
   "id": "5ba97f3b-de7c-453f-837f-0ff16c340589",
   "metadata": {},
   "outputs": [],
   "source": [
    "header_url = \"https://raw.githubusercontent.com/aezarebski/aas-extended-examples/main/example-0/adult.header\"\n",
    "data_url = \"https://raw.githubusercontent.com/aezarebski/aas-extended-examples/main/example-0/adult.data\"\n",
    "\n",
    "header_file = \"adult.header\"\n",
    "data_file = \"adult.data\"\n",
    "\n",
    "try:\n",
    "    with open(header_file) as f:\n",
    "        header = f.readlines()[0].split(',')\n",
    "    df = pd.read_table(data_file, delimiter = \",\", names=header)\n",
    "except:\n",
    "    print(\"Could not load census from file, defaulting to URL\")\n",
    "    header = list(pd.read_csv(header_url))\n",
    "    df = pd.read_table(data_url, delimiter = \",\", names=header)\n",
    "    print(\"iris loaded from URL\\n\")"
   ]
  },
  {
   "cell_type": "markdown",
   "id": "0fbcc4d2-236c-4485-b8e7-456a3dd85ab3",
   "metadata": {},
   "source": [
    "### Tables"
   ]
  },
  {
   "cell_type": "markdown",
   "id": "dd964766-8fc3-4051-8d50-e492ef53e551",
   "metadata": {},
   "source": [
    "Word processor software will typically have functionality for creating tables. Often when working with code it is useful to be able to construct a table in plain text. An excellent tool for creating tables for LaTeX, HTML or Markdown is [Tables Generator](https://www.tablesgenerator.com/)."
   ]
  },
  {
   "cell_type": "markdown",
   "id": "887517e2-43b3-42d9-95cd-1010ca98399d",
   "metadata": {},
   "source": [
    "### Question\n",
    "\n",
    "Fill in the values in the following table\n",
    "\n",
    "| Variable                            | Value |\n",
    "|-------------------------------------|:-----:|\n",
    "| Number, _N_                         |   ?   |\n",
    "| Sex, female, _N_ (%)                | ? (?) |\n",
    "| Age [years], mean (SD)              | ? (?) |\n",
    "| Hours worked per week, median (IQR) | ? (?) |\n",
    "\n",
    "If this seems too easy, why not try generate the text for a markdown table too!\n",
    "\n",
    "- [hint](https://pandas.pydata.org/pandas-docs/stable/reference/api/pandas.Series.value_counts.html)\n",
    "- [hint](https://pandas.pydata.org/pandas-docs/stable/reference/api/pandas.Series.quantile.html)"
   ]
  },
  {
   "cell_type": "code",
   "execution_count": 64,
   "id": "80011fe5",
   "metadata": {},
   "outputs": [
    {
     "data": {
      "text/plain": [
       " Male      21790\n",
       " Female    10771\n",
       "Name: sex, dtype: int64"
      ]
     },
     "execution_count": 64,
     "metadata": {},
     "output_type": "execute_result"
    }
   ],
   "source": [
    "df[\"sex\"].value_counts()"
   ]
  },
  {
   "cell_type": "code",
   "execution_count": 66,
   "id": "9bd5cacd",
   "metadata": {},
   "outputs": [
    {
     "data": {
      "text/html": [
       "<div>\n",
       "<style scoped>\n",
       "    .dataframe tbody tr th:only-of-type {\n",
       "        vertical-align: middle;\n",
       "    }\n",
       "\n",
       "    .dataframe tbody tr th {\n",
       "        vertical-align: top;\n",
       "    }\n",
       "\n",
       "    .dataframe thead th {\n",
       "        text-align: right;\n",
       "    }\n",
       "</style>\n",
       "<table border=\"1\" class=\"dataframe\">\n",
       "  <thead>\n",
       "    <tr style=\"text-align: right;\">\n",
       "      <th></th>\n",
       "      <th>Variable</th>\n",
       "      <th>Value</th>\n",
       "    </tr>\n",
       "  </thead>\n",
       "  <tbody>\n",
       "    <tr>\n",
       "      <th>0</th>\n",
       "      <td>Number, N</td>\n",
       "      <td>32561</td>\n",
       "    </tr>\n",
       "    <tr>\n",
       "      <th>1</th>\n",
       "      <td>Sex, female, N (%)</td>\n",
       "      <td>10771 (33.08%)</td>\n",
       "    </tr>\n",
       "    <tr>\n",
       "      <th>2</th>\n",
       "      <td>Age [years], mean (sd)</td>\n",
       "      <td>38.58 (13.64)</td>\n",
       "    </tr>\n",
       "    <tr>\n",
       "      <th>3</th>\n",
       "      <td>Hours per week, median (IQR)</td>\n",
       "      <td>40.00 (5.00)</td>\n",
       "    </tr>\n",
       "  </tbody>\n",
       "</table>\n",
       "</div>"
      ],
      "text/plain": [
       "                       Variable           Value\n",
       "0                     Number, N           32561\n",
       "1            Sex, female, N (%)  10771 (33.08%)\n",
       "2        Age [years], mean (sd)   38.58 (13.64)\n",
       "3  Hours per week, median (IQR)    40.00 (5.00)"
      ]
     },
     "execution_count": 66,
     "metadata": {},
     "output_type": "execute_result"
    }
   ],
   "source": [
    "number_of_rows = df.shape[0]\n",
    "female_count = (df[\"sex\"].str.startswith(\" F\")).sum()\n",
    "assert female_count == 10771\n",
    "female_pct = female_count / number_of_rows\n",
    "mean_age = df[\"age\"].mean()\n",
    "sd_age = df[\"age\"].std()\n",
    "hours_worked_median = df[\"hours-per-week\"].median()\n",
    "hours_worked_IQR = df[\"hours-per-week\"].quantile(0.75) - df[\"hours-per-week\"].quantile(0.25)\n",
    "\n",
    "# create a table with the above values\n",
    "census_summary = pd.DataFrame({\"Variable\": [\"Number, N\", \"Sex, female, N (%)\", \"Age [years], mean (sd)\", \"Hours per week, median (IQR)\"],\n",
    "                                \"Value\": [f\"{number_of_rows}\", f\"{female_count} ({female_pct:.2%})\", f\"{mean_age:.2f} ({sd_age:.2f})\", f\"{hours_worked_median:.2f} ({hours_worked_IQR:.2f})\"]})\n",
    "census_summary"
   ]
  },
  {
   "cell_type": "markdown",
   "id": "66883a7a-5147-4d6f-95d5-78e0d04c17b2",
   "metadata": {},
   "source": [
    "### Question\n",
    "\n",
    "Create a histogram of the ages with 70 bins. What do you notice?\n",
    "\n",
    "- [hint](https://matplotlib.org/stable/api/_as_gen/matplotlib.pyplot.hist.html)"
   ]
  },
  {
   "cell_type": "code",
   "execution_count": 50,
   "id": "9483a87d",
   "metadata": {},
   "outputs": [
    {
     "name": "stdout",
     "output_type": "stream",
     "text": [
      "df['age'].mode()=0    36\n",
      "Name: age, dtype: int64\n"
     ]
    },
    {
     "data": {
      "image/png": "[encoded data removed]",
      "text/plain": [
       "<Figure size 640x480 with 1 Axes>"
      ]
     },
     "metadata": {},
     "output_type": "display_data"
    }
   ],
   "source": [
    "# Histogram of age\n",
    "plt.figure()\n",
    "plt.hist(df[\"age\"], bins = 70, color = \"#67a9cf\")\n"
   ]
  },
  {
   "cell_type": "code",
   "execution_count": 52,
   "id": "0f586dac",
   "metadata": {},
   "outputs": [
    {
     "data": {
      "text/plain": [
       "73"
      ]
     },
     "execution_count": 52,
     "metadata": {},
     "output_type": "execute_result"
    }
   ],
   "source": [
    "np.unique(df[\"age\"]).size"
   ]
  },
  {
   "cell_type": "markdown",
   "id": "c5b28210",
   "metadata": {},
   "source": [
    "From the above graph, there seems to be some rather funky outliers (bins with ~2x more than usual). This smells a bit like there are more age categories than bins, which causes some weird chunking. We will fix that in the next question"
   ]
  },
  {
   "cell_type": "markdown",
   "id": "6df0fee4-3869-425d-8b16-f9827c0b4a83",
   "metadata": {},
   "source": [
    "### Question\n",
    "\n",
    "Create another histogram, this time ensure that there is only a single age per column. On top of the histogram draw vertical lines representing the mean and plus/minus two standard deviations. What do you notice?"
   ]
  },
  {
   "cell_type": "code",
   "execution_count": 54,
   "id": "dad5c335",
   "metadata": {},
   "outputs": [
    {
     "data": {
      "text/plain": [
       "<matplotlib.lines.Line2D at 0x1d142135f70>"
      ]
     },
     "execution_count": 54,
     "metadata": {},
     "output_type": "execute_result"
    },
    {
     "data": {
      "image/png": "[encoded data removed]",
      "text/plain": [
       "<Figure size 640x480 with 1 Axes>"
      ]
     },
     "metadata": {},
     "output_type": "display_data"
    }
   ],
   "source": [
    "# Histogram of age\n",
    "plt.figure()\n",
    "plt.hist(df[\"age\"], bins = df[\"age\"].unique().size, color = \"#67a9cf\")\n",
    "# Add vertical lines for the mean plus / minus two standard deviations\n",
    "plt.axvline(df[\"age\"].mean() + 2*df[\"age\"].std(), color = \"#ef8a62\", linestyle = \"--\")\n",
    "plt.axvline(df[\"age\"].mean() - 2*df[\"age\"].std(), color = \"#ef8a62\", linestyle = \"--\")\n",
    "plt.axvline(df[\"age\"].mean(), color = \"#ef8a62\", linestyle = \"-\")"
   ]
  },
  {
   "cell_type": "markdown",
   "id": "a3e5f4c4",
   "metadata": {},
   "source": [
    "There are a couple of things to note:\n",
    "1. There are no values below 18 (probably for ethical / consent reasons)\n",
    "2. Because of (1), the data is slightly right skewed\n",
    "3. There is a couple of very active 89 year olds :))"
   ]
  },
  {
   "cell_type": "markdown",
   "id": "885ae030-e26e-40b7-b817-cc4afed13496",
   "metadata": {},
   "source": [
    "### Question\n",
    "\n",
    "Create a boxplot of the ages for females and males. What statistics are used to compute the size of the box, the midline, and the whiskers and points? Given the histogram above, can you predict what it will look like?"
   ]
  },
  {
   "cell_type": "markdown",
   "id": "0228702f",
   "metadata": {},
   "source": [
    "#### Honest pre-code prediction\n",
    "I expect there to be a slight right skew (the top quartile being longer than the bottom) as well as the lowest whisker to coincide with the bottom of the box\n"
   ]
  },
  {
   "cell_type": "code",
   "execution_count": null,
   "id": "e185bd4b",
   "metadata": {},
   "outputs": [],
   "source": []
  },
  {
   "cell_type": "code",
   "execution_count": 72,
   "id": "640f7bce",
   "metadata": {},
   "outputs": [
    {
     "data": {
      "text/plain": [
       " Female         AxesSubplot(0.1,0.15;0.363636x0.75)\n",
       " Male      AxesSubplot(0.536364,0.15;0.363636x0.75)\n",
       "dtype: object"
      ]
     },
     "execution_count": 72,
     "metadata": {},
     "output_type": "execute_result"
    },
    {
     "data": {
      "image/png": "[encoded data removed]",
      "text/plain": [
       "<Figure size 1000x500 with 2 Axes>"
      ]
     },
     "metadata": {},
     "output_type": "display_data"
    }
   ],
   "source": [
    "# Box plot of age grouped by sex\n",
    "df.groupby(\"sex\", ).boxplot(column = \"age\", figsize = (10, 5), patch_artist = True,)\n"
   ]
  },
  {
   "cell_type": "markdown",
   "id": "5632759a-a6f5-4eae-8ce1-1814ad32e61b",
   "metadata": {},
   "source": [
    "### Question\n",
    "\n",
    "Draw a Tufte style boxplot of the same data. For example, in one variation (of many) the midline is replaced by a point, the box is omitted and the whiskers extend to the most extreme points.\n",
    "\n",
    "- [hint](https://jrnold.github.io/ggthemes/reference/geom_tufteboxplot.html)"
   ]
  },
  {
   "cell_type": "code",
   "execution_count": 74,
   "id": "be44b59a",
   "metadata": {},
   "outputs": [
    {
     "data": {
      "text/plain": [
       "[<matplotlib.lines.Line2D at 0x1d145de3e80>]"
      ]
     },
     "execution_count": 74,
     "metadata": {},
     "output_type": "execute_result"
    },
    {
     "data": {
      "image/png": "[encoded data removed]",
      "text/plain": [
       "<Figure size 1000x500 with 1 Axes>"
      ]
     },
     "metadata": {},
     "output_type": "display_data"
    }
   ],
   "source": [
    "# Tufte style box plot of age\n",
    "age_median = df[\"age\"].median()\n",
    "age_max = df[\"age\"].max()\n",
    "age_min = df[\"age\"].min()\n",
    "age_first_quartile = df[\"age\"].quantile(0.25)\n",
    "age_third_quartile = df[\"age\"].quantile(0.75)\n",
    "\n",
    "fig = plt.figure(figsize = (10, 5))\n",
    "ax = fig.add_subplot(111)\n",
    "# add median point\n",
    "ax.scatter(age_median, 1, color = \"#67a9cf\", s = 100)\n",
    "# add line between min and first quartile\n",
    "ax.plot([age_min, age_first_quartile], [1, 1], color = \"#67a9cf\", linewidth = 5)\n",
    "ax.plot([age_third_quartile, age_max], [1, 1],  color = \"#67a9cf\", linewidth = 5)"
   ]
  }
 ],
 "metadata": {
  "kernelspec": {
   "display_name": "Python 3.9.13 ('aas')",
   "language": "python",
   "name": "python3"
  },
  "language_info": {
   "codemirror_mode": {
    "name": "ipython",
    "version": 3
   },
   "file_extension": ".py",
   "mimetype": "text/x-python",
   "name": "python",
   "nbconvert_exporter": "python",
   "pygments_lexer": "ipython3",
   "version": "3.9.13"
  },
  "toc-autonumbering": false,
  "vscode": {
   "interpreter": {
    "hash": "71e879137cc3e7b66ac89a0bc02229045483c91891236d92cf09a130efa230c6"
   }
  }
 },
 "nbformat": 4,
 "nbformat_minor": 5
}
