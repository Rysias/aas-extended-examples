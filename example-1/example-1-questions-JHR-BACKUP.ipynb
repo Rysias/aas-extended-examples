{
 "cells": [
  {
   "cell_type": "markdown",
   "metadata": {},
   "source": [
    "Example 1\n",
    "========="
   ]
  },
  {
   "cell_type": "markdown",
   "metadata": {},
   "source": [
    "This notebook is available on github\n",
    "[here](https://github.com/aezarebski/aas-extended-examples). If you find\n",
    "errors or would like to suggest an improvement, feel free to create an\n",
    "issue.\n",
    "\n",
    "As usual we will start by importing some useful libraries."
   ]
  },
  {
   "cell_type": "code",
   "execution_count": 2,
   "metadata": {},
   "outputs": [],
   "source": [
    "import pandas as pd\n",
    "import numpy as np\n",
    "import scipy.stats as stats\n",
    "import matplotlib.pyplot as plt"
   ]
  },
  {
   "cell_type": "markdown",
   "metadata": {},
   "source": [
    "Central limit theorem\n",
    "---------------------\n",
    "\n",
    "The central limit theorem (CLT) tells us about the limiting distribution\n",
    "of the sample mean for distribution for an independent and identically\n",
    "distributed (IID) sample with a finite variance. It underpins many\n",
    "results in statistics and is important for reasoning about stochastic\n",
    "processes."
   ]
  },
  {
   "cell_type": "markdown",
   "metadata": {},
   "source": [
    "### Question\n",
    "\n",
    "Write down a statement of the law of large numbers (LLN). Write down a\n",
    "statement of the central limit theorem. Make sure you understand what\n",
    "each of them tells you."
   ]
  },
  {
   "cell_type": "markdown",
   "metadata": {},
   "source": [
    "**Central Limit Theorem**: As the sample size grows large, the sampling distribution of a random variable will approach a normal distribution\n",
    "\n",
    "**Law of large numbers**: As the sample size grows, the mean of the sampling distribution approaches the population average"
   ]
  },
  {
   "cell_type": "markdown",
   "metadata": {},
   "source": [
    "Example: CLT\n",
    "------------\n",
    "\n",
    "To see that the distribution of the sample mean converges to a normal\n",
    "distribution we will do a simulation study."
   ]
  },
  {
   "cell_type": "markdown",
   "metadata": {},
   "source": [
    "### Question\n",
    "\n",
    "Write down the distribution of the sample mean given an IID sample of\n",
    "exponential random variables with rate $1/5$."
   ]
  },
  {
   "cell_type": "markdown",
   "metadata": {},
   "source": [
    "The mean of the distribution is $1/lambda$ which in our case is **5**\n",
    "\n",
    "The variance of the distribution is also $1/lambda$ and thus also **5**\n",
    "\n",
    "From the CLT we know that this approaches a normal distribution with parameters N(5, 25/n)"
   ]
  },
  {
   "cell_type": "markdown",
   "metadata": {},
   "source": [
    "### Question\n",
    "\n",
    "1.  Generate 500 sample means each based on a sample of 100 exponential\n",
    "    random variables\n",
    "2.  Make a visualisation of the distribution of the data (e.g., a KDE or\n",
    "    histogram) and overlay the CLT approximation."
   ]
  },
  {
   "cell_type": "code",
   "execution_count": 4,
   "metadata": {},
   "outputs": [
    {
     "data": {
      "image/png": "[encoded data removed]",
      "text/plain": [
       "<Figure size 640x480 with 1 Axes>"
      ]
     },
     "metadata": {},
     "output_type": "display_data"
    }
   ],
   "source": [
    "lambda_param = 0.2\n",
    "sample_size = 100\n",
    "n_samples = 500\n",
    "sample_means = np.array([np.mean(stats.expon.rvs(scale=1/lambda_param, size=sample_size)) for i in range(n_samples)])\n",
    "\n",
    "# Plot the histogram of the sample means\n",
    "plt.hist(sample_means, bins=20, density=True)\n",
    "plt.title('Histogram of sample means')\n",
    "plt.xlabel('Sample mean')\n",
    "plt.show()\n"
   ]
  },
  {
   "cell_type": "markdown",
   "metadata": {},
   "source": [
    "Estimating the mean of a small sample\n",
    "-------------------------------------\n",
    "\n",
    "If we have a sample from a normal distribution with sample mean $\\bar{x}$ and known the standard deviation, $\\sigma$, the $(1-\\alpha)100\\%$ CI for the estimate of the mean is\n",
    "\n",
    "$$\n",
    "\\bar{x} \\pm z_{\\alpha / 2} \\frac{\\sigma}{\\sqrt{n}}\n",
    "$$"
   ]
  },
  {
   "cell_type": "markdown",
   "metadata": {},
   "source": [
    "### Question\n",
    "\n",
    "Simulate a set of 5 draws from a $N(1,1)$ distribution and, assuming the standard deviation is known, check if the $95\\%$ CI contains the true mean."
   ]
  },
  {
   "cell_type": "code",
   "execution_count": 18,
   "metadata": {},
   "outputs": [
    {
     "name": "stdout",
     "output_type": "stream",
     "text": [
      "Confidence interval: (-1.0541372631382786, 0.6989078180148846)\n",
      "Is the true mean in the confidence interval? False\n"
     ]
    }
   ],
   "source": [
    "z_95 = stats.norm.ppf(0.975)\n",
    "norm_draws = stats.norm.rvs(size=5, loc=1, scale=1)\n",
    "conf_interval = z_95 * (1 / np.sqrt(5))\n",
    "sample_mean = np.mean(norm_draws)\n",
    "conf_min = sample_mean - conf_interval\n",
    "conf_max = sample_mean + conf_interval\n",
    "print(f\"Confidence interval: ({conf_min}, {conf_max})\")\n",
    "print(f\"Is the true mean in the confidence interval? {conf_min <= 1 <= conf_max}\")"
   ]
  },
  {
   "cell_type": "markdown",
   "metadata": {},
   "source": [
    "### Question\n",
    "\n",
    "Now repeat this process 1000 times and check how many times it contains the true mean. Do you think the coverage of the CI will be correct?"
   ]
  },
  {
   "cell_type": "code",
   "execution_count": 23,
   "metadata": {},
   "outputs": [
    {
     "name": "stdout",
     "output_type": "stream",
     "text": [
      "Proportion of confidence intervals that contain the true mean: 0.951\n"
     ]
    }
   ],
   "source": [
    "from typing import Tuple, Callable\n",
    "\n",
    "def get_confidence_interval(sample_size=5, alpha=0.05, true_mean=1, true_sd=1) -> Tuple[float, float]:\n",
    "    z_alpha = stats.norm.ppf(1 - alpha / 2)\n",
    "    norm_draws = stats.norm.rvs(size=sample_size, loc=true_mean, scale=true_sd)\n",
    "    conf_interval = z_alpha * (true_sd / np.sqrt(sample_size))\n",
    "    sample_mean = np.mean(norm_draws)\n",
    "    conf_min = sample_mean - conf_interval\n",
    "    conf_max = sample_mean + conf_interval\n",
    "    return conf_min, conf_max\n",
    "\n",
    "def conf_contains_true(conf_function: Callable, true_mean=1) -> bool:\n",
    "    conf_min, conf_max = conf_function()\n",
    "    return conf_min <= true_mean <= conf_max\n",
    "\n",
    "N = 1000\n",
    "contains_true = [conf_contains_true(get_confidence_interval) for i in range(N)]\n",
    "\n",
    "print(f\"Proportion of confidence intervals that contain the true mean: {np.mean(contains_true)}\")\n",
    "\n",
    "\n"
   ]
  },
  {
   "cell_type": "markdown",
   "metadata": {},
   "source": [
    "### Question\n",
    "\n",
    "Now repeat this 1000-fold repetition using the sample standard deviation instead of the true standard deviation but treat it as though it is known, ie continue with $z_{\\alpha / 2}$. Do you think the coverage of the CI will be correct?"
   ]
  },
  {
   "cell_type": "code",
   "execution_count": 24,
   "metadata": {},
   "outputs": [
    {
     "name": "stdout",
     "output_type": "stream",
     "text": [
      "Proportion of confidence intervals that contain the true mean: 0.844\n"
     ]
    }
   ],
   "source": [
    "\n",
    "def get_confidence_interval_sample(sample_size=5, alpha=0.05, true_mean=1, true_sd=1) -> Tuple[float, float]:\n",
    "    z_alpha = stats.norm.ppf(1 - alpha / 2)\n",
    "    norm_draws = stats.norm.rvs(size=sample_size, loc=true_mean, scale=true_sd)\n",
    "    conf_interval = z_alpha * (np.std(norm_draws) / np.sqrt(sample_size))\n",
    "    sample_mean = np.mean(norm_draws)\n",
    "    conf_min = sample_mean - conf_interval\n",
    "    conf_max = sample_mean + conf_interval\n",
    "    return conf_min, conf_max\n",
    "\n",
    "N = 1000\n",
    "contains_true = [conf_contains_true(get_confidence_interval_sample) for i in range(N)]\n",
    "print(f\"Proportion of confidence intervals that contain the true mean: {np.mean(contains_true)}\")"
   ]
  },
  {
   "cell_type": "markdown",
   "metadata": {},
   "source": [
    "### Question\n",
    "\n",
    "Now repeat this process while accounting for the uncertainty in the standard deviation, ie use the $t_{\\alpha / 2}$. How many degrees of freedom are there in the _t_-distribution? Do you think the coverage of the CI will be correct?"
   ]
  },
  {
   "cell_type": "code",
   "execution_count": 26,
   "metadata": {},
   "outputs": [
    {
     "name": "stdout",
     "output_type": "stream",
     "text": [
      "Proportion of confidence intervals that contain the true mean: 0.943\n"
     ]
    }
   ],
   "source": [
    "def conf_interval_t_dist(sample_size=5, alpha=0.05, true_mean=1, true_sd=1) -> Tuple[float, float]:\n",
    "    t_alpha = stats.t.ppf(1 - alpha / 2, sample_size - 1)\n",
    "    norm_draws = stats.norm.rvs(size=sample_size, loc=true_mean, scale=true_sd)\n",
    "    conf_interval = t_alpha * (np.std(norm_draws) / np.sqrt(sample_size))\n",
    "    sample_mean = np.mean(norm_draws)\n",
    "    conf_min = sample_mean - conf_interval\n",
    "    conf_max = sample_mean + conf_interval\n",
    "    return conf_min, conf_max\n",
    "\n",
    "N = 1000\n",
    "contains_true = [conf_contains_true(conf_interval_t_dist) for i in range(N)]\n",
    "print(f\"Proportion of confidence intervals that contain the true mean: {np.mean(contains_true)}\")"
   ]
  },
  {
   "cell_type": "markdown",
   "metadata": {},
   "source": [
    "Testing the hypothesis that a coin is fair\n",
    "------------------------------------------\n",
    "\n",
    "There is an election to choose between candidate _A_ and candidate _B_. To win the election a candidate needs to get the majority of the votes. Candidate _B_ declared victory but there is suspicion that they cheated. A random sample of $n$ ballots had $m$ votes for _A_. We want to know if we can reject the null hypothesis that _B_ did in fact win."
   ]
  },
  {
   "cell_type": "markdown",
   "metadata": {},
   "source": [
    "### Question\n",
    "\n",
    "Would we reject the null if $n=100$ and $m=70$? "
   ]
  },
  {
   "cell_type": "code",
   "execution_count": 3,
   "metadata": {},
   "outputs": [
    {
     "name": "stdout",
     "output_type": "stream",
     "text": [
      "Probability of getting 70 or more successes if the true probability of success is less than 0.5: 0.000\n"
     ]
    }
   ],
   "source": [
    "n = 100\n",
    "num_success = 70\n",
    "\n",
    "# Calculate the probability of getting 70 or more successes if the true probability of success is less than 0.5\n",
    "p = 0.5\n",
    "binom = stats.binom(n, p)\n",
    "prob = 1 - binom.cdf(num_success)\n",
    "print(f\"Probability of getting 70 or more successes if the true probability of success is less than 0.5: {prob:.3f}\")\n"
   ]
  },
  {
   "cell_type": "markdown",
   "metadata": {},
   "source": [
    "### Question\n",
    "\n",
    "If $n=100$, how small would $m$ need to be for us to not be able to reject the null using this test?"
   ]
  },
  {
   "cell_type": "code",
   "execution_count": 8,
   "metadata": {},
   "outputs": [
    {
     "name": "stdout",
     "output_type": "stream",
     "text": [
      "Minimum number of successes required to reject the null hypothesis: 58\n",
      "Probability of getting 58 or more successes if the true probability of success is less than 0.5: 0.044\n"
     ]
    }
   ],
   "source": [
    "n = 100\n",
    "null_p = 0.5\n",
    "binom = stats.binom(n, null_p)\n",
    "# find the minimum number of successes required to reject the null hypothesis\n",
    "min_success = binom.ppf(0.95)\n",
    "print(f\"Minimum number of successes required to reject the null hypothesis: {min_success:.0f}\")\n",
    "\n",
    "new_prob = 1 - binom.cdf(min_success)\n",
    "print(f\"Probability of getting 58 or more successes if the true probability of success is less than 0.5: {new_prob:.3f}\")"
   ]
  },
  {
   "cell_type": "markdown",
   "metadata": {},
   "source": [
    "Parameter estimation of the binomial distribution\n",
    "-------------------------------------------------\n",
    "\n",
    "We want to make an *estimate* the probability that a coin comes up\n",
    "heads. We also want to understand the level of confidence we have in\n",
    "this estimate; we use a *confidence interval* (CI) to describe the range\n",
    "of values we are confident the \\\"true\\\" probability of heads lies\n",
    "within.\n",
    "\n",
    "Binomial random variables can be used to model the number of times a\n",
    "coin comes up heads when flipped $n$ times. Let $X$ be a binomial random\n",
    "variable (RV) representing the number of heads that are observed when a\n",
    "coin is flipped $n$ times and the probability of coming up heads is $p$.\n",
    "We assume that $n$ is known but $p$ is unknown.\n",
    "\n",
    "The expected value of $X$, ie the average number of times that the coin\n",
    "comes up heads, is $np$. So a simple way to estimate $p$ is to divide\n",
    "the number of heads, $X$, by the number of flips, $n$. This gives the\n",
    "estimate\n",
    "\n",
    "$$\n",
    "\\hat{p} = X / n.\n",
    "$$\n",
    "\n",
    "This estimator is called the [the method of\n",
    "moments](https://en.wikipedia.org/wiki/Method_of_moments_(statistics)). This is\n",
    "also an example of a maximum likelihood estimate (MLE).\n",
    "\n",
    "Given an estimator, such as $\\hat{p}$, we usually want to quantify the\n",
    "uncertainty. One way to construct a CI is to approximate the sampling\n",
    "distribution by a normal distribution. It is a bit crude, but it is acceptable\n",
    "when we have lots of data. The estimated standard error of $\\hat{p}$ is\n",
    "$\\sqrt{\\hat{p}(1-\\hat{p})/n}$, so the CI is given by\n",
    "\n",
    "$$\n",
    "\\hat{p} \\pm z \\sqrt{\\frac{\\hat{p}(1-\\hat{p})}{n}}\n",
    "$$\n",
    "\n",
    "where $z$ is the appropriate quantile of the standard normal distribution. In\n",
    "the case of a $95\\%$ distribution this value is $1.96$."
   ]
  },
  {
   "cell_type": "markdown",
   "metadata": {},
   "source": [
    "### Question\n",
    "\n",
    "State the limitations on the estimator we are using for the CI.\n",
    "\n",
    "We are assuming that the sample variance is a good estimate for the true variance by more or less drop-in replacing the values. Given the LLN and CLT this is a decent assumption when n is large. However, for smaller n it would it might be better to conservatively use the t-score instead of the z-score to account for the introduced uncertainty"
   ]
  },
  {
   "cell_type": "markdown",
   "metadata": {},
   "source": [
    "### Question\n",
    "\n",
    "Implement a function called `estimate_and_ci` which takes two\n",
    "arguments: `num_trials` which is $n$ in the description above, and\n",
    "`num_success` which is $X$ above. The function should return\n",
    "`(p_hat,(ci_lower,ci_upper))` where `p_hat` is $\\hat{p}$ and\n",
    "`ci_x` are the limits of the $95\\%$ CI."
   ]
  },
  {
   "cell_type": "code",
   "execution_count": 39,
   "metadata": {},
   "outputs": [],
   "source": [
    "def estimate_and_ci(num_trials: int, nums_success: np.ndarray) -> Tuple[float, Tuple[float, float]]:\n",
    "    \"\"\"Estimate the probability of success and calculate a 95% confidence interval for the probability of success.\n",
    "    \n",
    "    Args:\n",
    "        num_trials: The number of trials in the experiment\n",
    "        nums_success: The number of successes in each trial\n",
    "        \n",
    "    Returns:\n",
    "        A tuple containing the estimated probability of success and a tuple containing the lower and upper bounds of the\n",
    "        95% confidence interval for the probability of success\n",
    "    \"\"\"\n",
    "    p_hat = np.mean(nums_success / num_trials)\n",
    "    se = np.sqrt(p_hat * (1 - p_hat) / num_trials)\n",
    "    z_95 = stats.norm.ppf(0.975)\n",
    "    conf_interval = z_95 * se\n",
    "    conf_min = p_hat - conf_interval\n",
    "    conf_max = p_hat + conf_interval\n",
    "    return p_hat, (conf_min, conf_max)\n",
    "    "
   ]
  },
  {
   "cell_type": "markdown",
   "metadata": {},
   "source": [
    "### Question\n",
    "\n",
    "Simulate a binomial random variable with $n=100$ and $p=0.6$. Then use\n",
    "the value and the `estimate_and_ci` function to see how well you\n",
    "can estimate $p$. Write a couple of sentences to explain this.\n",
    "\n",
    "Recall that in a previous example we have looked at how to simulate\n",
    "random variables using `scipy.stats`."
   ]
  },
  {
   "cell_type": "code",
   "execution_count": 45,
   "metadata": {},
   "outputs": [
    {
     "name": "stdout",
     "output_type": "stream",
     "text": [
      "Estimated probability of success: 0.630\n",
      "95% confidence interval for the probability of success: (0.5353720944380675, 0.7246279055619325)\n"
     ]
    }
   ],
   "source": [
    "n = 100\n",
    "p = 0.6\n",
    "binom_sample = stats.binom.rvs(n, p, size=1)\n",
    "p_hat, conf_interval = estimate_and_ci(n, binom_sample)\n",
    "print(f\"Estimated probability of success: {p_hat:.3f}\")\n",
    "print(f\"95% confidence interval for the probability of success: {conf_interval}\")"
   ]
  },
  {
   "cell_type": "markdown",
   "metadata": {},
   "source": [
    "### Question\n",
    "\n",
    "Repeat the process from the previous question 100000 times and see what\n",
    "proportion of the CIs capture the true value of $p$. Is it what you\n",
    "expect? Write a couple of sentences to explain what you found."
   ]
  },
  {
   "cell_type": "code",
   "execution_count": null,
   "metadata": {},
   "outputs": [],
   "source": [
    "repetitions = 100_000\n",
    "n = 100\n",
    "p = 0.6\n",
    "binom_sample = stats.binom.rvs(n, p, size=repetitions)\n"
   ]
  }
 ],
 "metadata": {
  "jupytext": {
   "formats": "ipynb,md"
  },
  "kernelspec": {
   "display_name": "Python 3.9.13 ('aas')",
   "language": "python",
   "name": "python3"
  },
  "language_info": {
   "codemirror_mode": {
    "name": "ipython",
    "version": 3
   },
   "file_extension": ".py",
   "mimetype": "text/x-python",
   "name": "python",
   "nbconvert_exporter": "python",
   "pygments_lexer": "ipython3",
   "version": "3.9.13"
  },
  "vscode": {
   "interpreter": {
    "hash": "71e879137cc3e7b66ac89a0bc02229045483c91891236d92cf09a130efa230c6"
   }
  }
 },
 "nbformat": 4,
 "nbformat_minor": 4
}
